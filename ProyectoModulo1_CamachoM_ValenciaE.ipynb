{
 "cells": [
  {
   "cell_type": "code",
   "execution_count": 1,
   "metadata": {},
   "outputs": [
    {
     "ename": "NameError",
     "evalue": "name 'pd' is not defined",
     "output_type": "error",
     "traceback": [
      "\u001b[1;31m---------------------------------------------------------------------------\u001b[0m",
      "\u001b[1;31mNameError\u001b[0m                                 Traceback (most recent call last)",
      "\u001b[1;32m<ipython-input-1-62fa8167c3b9>\u001b[0m in \u001b[0;36m<module>\u001b[1;34m\u001b[0m\n\u001b[1;32m----> 1\u001b[1;33m \u001b[0mdf\u001b[0m \u001b[1;33m=\u001b[0m \u001b[0mpd\u001b[0m\u001b[1;33m.\u001b[0m\u001b[0mDataFrame\u001b[0m\u001b[1;33m(\u001b[0m\u001b[0mcolumns\u001b[0m\u001b[1;33m=\u001b[0m\u001b[1;33m[\u001b[0m\u001b[1;34m''\u001b[0m\u001b[1;33m,\u001b[0m \u001b[1;34m'Policía'\u001b[0m\u001b[1;33m,\u001b[0m \u001b[1;34m'Profesor'\u001b[0m\u001b[1;33m,\u001b[0m \u001b[1;34m'Maestro'\u001b[0m\u001b[1;33m,\u001b[0m \u001b[1;34m'Vigilante'\u001b[0m\u001b[1;33m,\u001b[0m \u001b[1;34m'Obispo'\u001b[0m\u001b[1;33m,\u001b[0m \u001b[1;34m'Estudiante'\u001b[0m\u001b[1;33m,\u001b[0m \u001b[1;34m'Total'\u001b[0m\u001b[1;33m]\u001b[0m\u001b[1;33m,\u001b[0m \u001b[0mindex\u001b[0m \u001b[1;33m=\u001b[0m \u001b[1;33m[\u001b[0m\u001b[1;34m'Lectura'\u001b[0m\u001b[1;33m,\u001b[0m\u001b[1;34m'Vicios'\u001b[0m\u001b[1;33m,\u001b[0m\u001b[1;34m'Gimnasia'\u001b[0m\u001b[1;33m,\u001b[0m\u001b[1;34m'Ropa'\u001b[0m\u001b[1;33m,\u001b[0m\u001b[1;34m'Total'\u001b[0m\u001b[1;33m]\u001b[0m\u001b[1;33m)\u001b[0m\u001b[1;33m\u001b[0m\u001b[1;33m\u001b[0m\u001b[0m\n\u001b[0m\u001b[0;32m      2\u001b[0m \u001b[0mdf\u001b[0m\u001b[1;33m.\u001b[0m\u001b[0mloc\u001b[0m\u001b[1;33m[\u001b[0m\u001b[1;34m'Lectura'\u001b[0m\u001b[1;33m,\u001b[0m \u001b[1;33m:\u001b[0m\u001b[1;33m]\u001b[0m \u001b[1;33m=\u001b[0m \u001b[1;33m[\u001b[0m\u001b[1;36m5\u001b[0m\u001b[1;33m,\u001b[0m \u001b[1;36m345\u001b[0m\u001b[1;33m,\u001b[0m \u001b[1;36m130\u001b[0m\u001b[1;33m,\u001b[0m \u001b[1;36m15\u001b[0m\u001b[1;33m,\u001b[0m \u001b[1;36m212\u001b[0m\u001b[1;33m,\u001b[0m \u001b[1;36m105\u001b[0m\u001b[1;33m,\u001b[0m \u001b[1;36m812\u001b[0m\u001b[1;33m]\u001b[0m\u001b[1;33m\u001b[0m\u001b[1;33m\u001b[0m\u001b[0m\n\u001b[0;32m      3\u001b[0m \u001b[0mdf\u001b[0m\u001b[1;33m.\u001b[0m\u001b[0mloc\u001b[0m\u001b[1;33m[\u001b[0m\u001b[1;34m'Lectura'\u001b[0m\u001b[1;33m,\u001b[0m \u001b[1;33m:\u001b[0m\u001b[1;33m]\u001b[0m \u001b[1;33m=\u001b[0m \u001b[1;33m[\u001b[0m\u001b[1;36m52\u001b[0m\u001b[1;33m,\u001b[0m\u001b[1;34m'*'\u001b[0m\u001b[1;33m,\u001b[0m \u001b[1;36m212\u001b[0m\u001b[1;33m,\u001b[0m \u001b[1;36m234\u001b[0m\u001b[1;33m,\u001b[0m \u001b[1;34m'*'\u001b[0m\u001b[1;33m,\u001b[0m \u001b[1;36m234\u001b[0m\u001b[1;33m,\u001b[0m \u001b[1;36m953\u001b[0m\u001b[1;33m]\u001b[0m\u001b[1;33m\u001b[0m\u001b[1;33m\u001b[0m\u001b[0m\n\u001b[0;32m      4\u001b[0m \u001b[0mdf\u001b[0m\u001b[1;33m.\u001b[0m\u001b[0mloc\u001b[0m\u001b[1;33m[\u001b[0m\u001b[1;34m'Lectura'\u001b[0m\u001b[1;33m,\u001b[0m \u001b[1;33m:\u001b[0m\u001b[1;33m]\u001b[0m \u001b[1;33m=\u001b[0m \u001b[1;33m[\u001b[0m\u001b[1;36m5\u001b[0m\u001b[1;33m,\u001b[0m \u001b[1;36m345\u001b[0m\u001b[1;33m,\u001b[0m \u001b[1;36m130\u001b[0m\u001b[1;33m,\u001b[0m \u001b[1;36m15\u001b[0m\u001b[1;33m,\u001b[0m \u001b[1;36m212\u001b[0m\u001b[1;33m,\u001b[0m \u001b[1;36m105\u001b[0m\u001b[1;33m,\u001b[0m \u001b[1;36m812\u001b[0m\u001b[1;33m]\u001b[0m\u001b[1;33m\u001b[0m\u001b[1;33m\u001b[0m\u001b[0m\n",
      "\u001b[1;31mNameError\u001b[0m: name 'pd' is not defined"
     ]
    }
   ],
   "source": [
    "df = pd.DataFrame(columns=['', 'Policía', 'Profesor', 'Maestro', 'Vigilante', 'Obispo', 'Estudiante', 'Total'], index = ['Lectura','Vicios','Gimnasia','Ropa','Total'])\n",
    "df.loc['Lectura', :] = [5, 345, 130, 15, 212, 105, 812]\n",
    "df.loc['Lectura', :] = [52,'*', 212, 234, '*', 234, 953]\n",
    "df.loc['Lectura', :] = [5, 345, 130, 15, 212, 105, 812]\n"
   ]
  },
  {
   "cell_type": "markdown",
   "metadata": {},
   "source": [
    "### Variables\n",
    "\n",
    "- $x_11$= Policias con gastos en lectura\n",
    "- $x_12$= Profesores con gastos en lectura\n",
    "- $x_13$= Maestros con gastos en lectura\n",
    "- $x_14$= Vigilantes con gastos en lectura\n",
    "- $x_15$= Obispos con gastos en lectura\n",
    "- $x_16$= Estudiantes con gastos en lectura \n",
    "- $x_17$= Total de gastos por lectura\n",
    "- $x_21$= Policias con gastos en vicios\n",
    "- $x_22$= Profesores con gastos en vicios\n",
    "- $x_23$= Maestros con gastos en vicios\n",
    "- $x_24$= Vigilantes con gastos en vicios\n",
    "- $x_25$= Obispos con gastos en vicios\n",
    "- $x_26$= Estudiantes con gastos en vicios\n",
    "- $x_27$= Total de gastos por vicios\n",
    "- $x_31$= Policias con gastos en gimnasia \n",
    "- $x_32$= Profesores con gastos en gimnasia\n",
    "- $x_33$= Maestros con gastos en gimnasia\n",
    "- $x_34$= Vigilantes con gastos en gimnasia\n",
    "- $x_35$= Obispos con gastos en gimnasia\n",
    "- $x_36$= Estudiantes con gastos en gimnasia\n",
    "- $x_37$= Total de gastos por gimnasia\n",
    "- $x_41$= Policias con gastos en ropa\n",
    "- $x_42$= Profesores con gastos en ropa\n",
    "- $x_43$= Maestros con gastos en ropa\n",
    "- $x_44$= Vigilantes con gastos en ropa\n",
    "- $x_45$= Obispos con gastos en ropa\n",
    "- $x_46$= Estudiantes con gastos en ropa\n",
    "- $x_47$= Total de gastos en ropa\n",
    "- $x_51$= Total de gastos de policias\n",
    "- $x_52$= Total de gastos de profesores\n",
    "- $x_53$= Total de gastos de maestros\n",
    "- $x_54$= Total de gastos de vigilantes\n",
    "- $x_55$= Total de gastos de obispos\n",
    "- $x_56$= Total de gastos de estudiantes\n",
    "- $x_57$= Total de gastos de todos\n"
   ]
  },
  {
   "cell_type": "markdown",
   "metadata": {},
   "source": [
    "### Restricciones\n",
    "\n",
    "$$x_11+x_12+x_13+x_14+x_15+x_16 = x_17 $$\n",
    "$$x_21+x_22+x_23+x_24+x_25+x_26 = x_27 $$\n",
    "$$x_31+x_32+x_33+x_34+x_35+x_36 = x_37 $$\n",
    "$$x_41+x_42+x_43+x_44+x_45+x_46 = x_47 $$\n",
    "$$x_51+x_52+x_53+x_54+x_55+x_56 = x_57 $$\n",
    "$$x_11+x_21+x_31+x_41= x_51 $$\n",
    "$$x_12+x_22+x_32+x_42= x_52 $$\n",
    "$$x_13+x_23+x_33+x_43= x_53 $$\n",
    "$$x_14+x_24+x_34+x_44= x_51 $$\n",
    "$$x_15+x_25+x_35+x_45= x_55 $$\n",
    "$$x_16+x_26+x_36+x_46= x_56 $$\n",
    "$$x_17+x_27+x_37+x_47= x_57 $$\n",
    "$$x_11+x_12+x_13+x_14+x_15+x_16+x_17+ x_21+x_22+x_23+x_24+x_25+x_26+x_27+x_31+x_32+x_33+x_34+x_35+x_36+x_37+x_41+x_42+x_43+x_44+x_45+x_46+x_47x_51+x_52+x_53+x_54+x_55+x_56+x_57  \\geq 0$$\n",
    "\n",
    "#### Restricciones de números ocultos\n",
    " $$x_22+x_25=221$$\n",
    " $$x_32+x_34=210$$\n",
    " $$x_44+x_45=10$$\n",
    " $$x_22+x_32=141$$\n",
    " $$x_34+x_44=198$$\n",
    " $$x_25+x_45=102$$\n",
    " $$x_22+x_25+x_32+x_44+x_45 \\geq 0$$"
   ]
  },
  {
   "cell_type": "code",
   "execution_count": 2,
   "metadata": {},
   "outputs": [],
   "source": [
    "import numpy as np\n",
    "import scipy.optimize as opt"
   ]
  },
  {
   "cell_type": "code",
   "execution_count": 7,
   "metadata": {},
   "outputs": [],
   "source": [
    "v11=np.concatenate((np.ones(6),-1),axis=None)\n",
    "V12=np.zeros(28)\n",
    "A1=np.array([np.concatenate((v11,V12),axis=None)])\n",
    "\n",
    "V21=np.zeros(7)\n",
    "V22=np.concatenate((np.ones(6),-1),axis=None)\n",
    "V23=np.zeros(21)\n",
    "A2=np.array([np.concatenate((V21,V22,V23),axis=None)])\n",
    "\n",
    "V31=np.zeros(14)\n",
    "V32=np.concatenate((np.ones(6),-1),axis=None)\n",
    "V33=np.zeros(14)\n",
    "A3= np.array([np.concatenate((V31,V32,V33),axis=None)])\n",
    "\n",
    "V41=np.zeros(21)\n",
    "v42=np.concatenate((np.ones(6),-1),axis=None)\n",
    "V43=np.zeros(7)\n",
    "A4=np.array([np.concatenate((V41,v42,V43),axis=None)])\n",
    "\n",
    "V51=np.zeros(28)\n",
    "V52=np.concatenate((np.ones(6),-1),axis=None)\n",
    "A5=np.array([np.concatenate((V51,V52),axis=None)])\n",
    "\n",
    "A6=np.array([np.concatenate((1,np.zeros(6),1,np.zeros(6),1,np.zeros(6),-1,np.zeros(6)),axis=None)])\n",
    "\n",
    "A7=np.array([np.concatenate((0,1,np.zeros(6),1,np.zeros(6),1,np.zeros(6),1,np.zeros(6),-1,np.zeros(5)),axis=None)])\n",
    "\n",
    "A8=np.array([np.concatenate((0,0,1,np.zeros(6),1,np.zeros(6),1,np.zeros(6),1,np.zeros(6),-1,np.zeros(4)),axis=None)])\n",
    "\n",
    "A9=np.array([np.concatenate((0,0,0,1,np.zeros(6),1,np.zeros(6),1,np.zeros(6),1,np.zeros(6),-1,np.zeros(3)),axis=None)])\n",
    "\n",
    "A10=np.array([np.concatenate((np.zeros(4),1,np.zeros(6),1,np.zeros(6),1,np.zeros(6),1,np.zeros(6),-1,0,0),axis=None)])\n",
    "\n",
    "A11=np.array([np.concatenate((np.zeros(5),1,np.zeros(6),1,np.zeros(6),1,np.zeros(6),1,np.zeros(6),-1,0),axis=None)])\n",
    "\n",
    "A12=np.array([np.concatenate((np.zeros(6),1,np.zeros(6),1,np.zeros(6),1,np.zeros(6),1,np.zeros(6),-1),axis=None)])\n",
    "\n",
    "A13=np.array([np.concatenate((np.zeros(8),1,np.zeros(2),1,np.zeros(23)),axis=None)])\n",
    "\n",
    "A14=np.array([np.concatenate((np.zeros(15),1,0,1,np.zeros(17)),axis=None)])\n",
    "\n",
    "A15=np.array([np.concatenate((np.zeros(24),1,1,np.zeros(9)),axis=None)])\n",
    "\n",
    "A16=np.array([np.concatenate((np.zeros(8),1,np.zeros(6),1,np.zeros(19)),axis=None)])\n",
    "\n",
    "A17=np.array([np.concatenate((np.zeros(17),1,np.zeros(6),1,np.zeros(10)),axis=None)])\n",
    "\n",
    "A18=np.array([np.concatenate((np.zeros(11),1,np.zeros(13),1,np.zeros(9)),axis=None)])"
   ]
  },
  {
   "cell_type": "code",
   "execution_count": 9,
   "metadata": {},
   "outputs": [],
   "source": [
    "A_eq=np.concatenate((A1,A2),axis=0)\n",
    "A_eq=np.concatenate((A_eq,A3),axis=0)\n",
    "A_eq=np.concatenate((A_eq,A4),axis=0)\n",
    "A_eq=np.concatenate((A_eq,A5),axis=0)\n",
    "A_eq=np.concatenate((A_eq,A6),axis=0)\n",
    "A_eq=np.concatenate((A_eq,A7),axis=0)\n",
    "A_eq=np.concatenate((A_eq,A8),axis=0)\n",
    "A_eq=np.concatenate((A_eq,A9),axis=0)\n",
    "A_eq=np.concatenate((A_eq,A10),axis=0)\n",
    "A_eq=np.concatenate((A_eq,A11),axis=0)\n",
    "A_eq=np.concatenate((A_eq,A12),axis=0)\n",
    "A_eq=np.concatenate((A_eq,A13),axis=0)\n",
    "A_eq=np.concatenate((A_eq,A14),axis=0)\n",
    "A_eq=np.concatenate((A_eq,A15),axis=0)\n",
    "A_eq=np.concatenate((A_eq,A16),axis=0)\n",
    "A_eq=np.concatenate((A_eq,A17),axis=0)\n",
    "A_eq=np.concatenate((A_eq,A18),axis=0)"
   ]
  },
  {
   "cell_type": "code",
   "execution_count": 5,
   "metadata": {},
   "outputs": [],
   "source": [
    "B_eq=np.concatenate((np.zeros(12),221,210,10,141,198,102),axis=None)"
   ]
  },
  {
   "cell_type": "code",
   "execution_count": 6,
   "metadata": {},
   "outputs": [],
   "source": [
    "c=np.concatenate((np.zeros(11),1,np.zeros(23)),axis=None)\n",
    "\n",
    "W1=np.array([-np.ones(35)])\n",
    "W2=np.array([np.concatenate((np.zeros(8),-1,np.zeros(2),-1,np.zeros(3),-1,0,-1,np.zeros(6),-1,-1,np.zeros(9)),axis=None)])\n",
    "A=np.concatenate((W1,W2),axis=0)\n",
    "\n",
    "b=np.array([0,0])"
   ]
  },
  {
   "cell_type": "code",
   "execution_count": null,
   "metadata": {},
   "outputs": [],
   "source": [
    "Resultado=opt.linprog(c,A_ub=A,b_ub=b,A_eq=A_eq,b_eq=B_eq)\n",
    "Resultado"
   ]
  }
 ],
 "metadata": {
  "kernelspec": {
   "display_name": "Python 3",
   "language": "python",
   "name": "python3"
  },
  "language_info": {
   "codemirror_mode": {
    "name": "ipython",
    "version": 3
   },
   "file_extension": ".py",
   "mimetype": "text/x-python",
   "name": "python",
   "nbconvert_exporter": "python",
   "pygments_lexer": "ipython3",
   "version": "3.7.3"
  }
 },
 "nbformat": 4,
 "nbformat_minor": 2
}
